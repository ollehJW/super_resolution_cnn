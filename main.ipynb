{
 "cells": [
  {
   "cell_type": "markdown",
   "metadata": {},
   "source": [
    "## 1. Import Packages"
   ]
  },
  {
   "cell_type": "code",
   "execution_count": 26,
   "metadata": {},
   "outputs": [],
   "source": [
    "import os\n",
    "from utils import psnr, save_plot, save_model, save_validation_results, create_patches, make_inference_images, get_dataloaders\n",
    "from model import SRCNN\n",
    "import torch\n",
    "import time\n",
    "import torch.optim as optim\n",
    "import torch.nn as nn\n",
    "from tqdm import tqdm\n",
    "from torchvision.utils import save_image"
   ]
  },
  {
   "cell_type": "markdown",
   "metadata": {},
   "source": [
    "## 2. Arguments"
   ]
  },
  {
   "cell_type": "code",
   "execution_count": 2,
   "metadata": {},
   "outputs": [],
   "source": [
    "args = dict()\n",
    "args['train_image_path'] = './data/train/image'\n",
    "args['test_image_path'] = './data/test/image'\n",
    "args['result_dir'] = './result'\n",
    "args['scale_factor'] = '2x'\n",
    "args['lr'] = 0.001\n",
    "args['batch_size'] = 16\n",
    "args['epoch'] = 100"
   ]
  },
  {
   "cell_type": "code",
   "execution_count": 3,
   "metadata": {},
   "outputs": [
    {
     "name": "stdout",
     "output_type": "stream",
     "text": [
      "Computation device:  cuda\n"
     ]
    }
   ],
   "source": [
    "os.makedirs(args['result_dir'], exist_ok=True)\n",
    "os.makedirs(os.path.join(args['result_dir'], 'valid_results'), exist_ok=True)\n",
    "device = 'cuda' if torch.cuda.is_available() else 'cpu'\n",
    "print('Computation device: ', device)"
   ]
  },
  {
   "cell_type": "markdown",
   "metadata": {},
   "source": [
    "## 3. Make Patches from Image dataset"
   ]
  },
  {
   "cell_type": "code",
   "execution_count": 4,
   "metadata": {},
   "outputs": [
    {
     "name": "stdout",
     "output_type": "stream",
     "text": [
      "Creating patches for 13 images\n"
     ]
    },
    {
     "name": "stderr",
     "output_type": "stream",
     "text": [
      "100%|██████████| 13/13 [00:06<00:00,  2.10it/s]\n"
     ]
    }
   ],
   "source": [
    "hr_path = args['train_image_path'].replace('image', 'hr_patches')\n",
    "lr_path = args['train_image_path'].replace('image', 'lr_patches')\n",
    "create_patches([args['train_image_path']], hr_path, lr_path, SHOW_PATCHES=False, STRIDE=14, SIZE=32)"
   ]
  },
  {
   "cell_type": "markdown",
   "metadata": {},
   "source": [
    "## 4. Make Test Dataset"
   ]
  },
  {
   "cell_type": "code",
   "execution_count": 5,
   "metadata": {},
   "outputs": [
    {
     "name": "stdout",
     "output_type": "stream",
     "text": [
      "2\n",
      "Scaling factor: 2x\n",
      "Low resolution images save path: ./data/test/test_bicubic_rgb_2x\n",
      "Original image dimensions: 640, 480\n",
      "Original image dimensions: 640, 480\n"
     ]
    }
   ],
   "source": [
    "test_input_path, test_label_path = make_inference_images([args['test_image_path']], scale_factor_type=args['scale_factor'])"
   ]
  },
  {
   "cell_type": "markdown",
   "metadata": {},
   "source": [
    "## 5. Construct Torch dataloader"
   ]
  },
  {
   "cell_type": "code",
   "execution_count": 6,
   "metadata": {},
   "outputs": [
    {
     "name": "stdout",
     "output_type": "stream",
     "text": [
      "Training samples: 18876\n",
      "Validation samples: 2\n"
     ]
    }
   ],
   "source": [
    "train_loader, valid_loader = get_dataloaders(train_image_paths=lr_path, train_label_paths=hr_path, valid_image_path=test_input_path, valid_label_paths=test_label_path, TRAIN_BATCH_SIZE=args['batch_size'], TEST_BATCH_SIZE=1)"
   ]
  },
  {
   "cell_type": "markdown",
   "metadata": {},
   "source": [
    "# 6. Build Model"
   ]
  },
  {
   "cell_type": "code",
   "execution_count": 7,
   "metadata": {},
   "outputs": [
    {
     "name": "stdout",
     "output_type": "stream",
     "text": [
      "SRCNN(\n",
      "  (conv1): Conv2d(3, 64, kernel_size=(9, 9), stride=(1, 1), padding=(2, 2))\n",
      "  (conv2): Conv2d(64, 32, kernel_size=(1, 1), stride=(1, 1), padding=(2, 2))\n",
      "  (conv3): Conv2d(32, 3, kernel_size=(5, 5), stride=(1, 1), padding=(2, 2))\n",
      ")\n"
     ]
    }
   ],
   "source": [
    "model = SRCNN().to(device)\n",
    "print(model)"
   ]
  },
  {
   "cell_type": "markdown",
   "metadata": {},
   "source": [
    "## 7. Optimizer, Loss"
   ]
  },
  {
   "cell_type": "code",
   "execution_count": 8,
   "metadata": {},
   "outputs": [],
   "source": [
    "optimizer = optim.Adam(model.parameters(), lr=args['lr'])\n",
    "criterion = nn.MSELoss()"
   ]
  },
  {
   "cell_type": "markdown",
   "metadata": {},
   "source": [
    "## 8. Train"
   ]
  },
  {
   "cell_type": "code",
   "execution_count": 15,
   "metadata": {},
   "outputs": [],
   "source": [
    "SAVE_VALIDATION_RESULTS = True\n",
    "\n",
    "def train(model, dataloader):\n",
    "    model.train()\n",
    "    running_loss = 0.0\n",
    "    running_psnr = 0.0\n",
    "    for bi, data in tqdm(enumerate(dataloader), total=len(dataloader)):\n",
    "        image_data = data[0].to(device)\n",
    "        label = data[1].to(device)\n",
    "        \n",
    "        # Zero grad the optimizer.\n",
    "        optimizer.zero_grad()\n",
    "        outputs = model(image_data)\n",
    "        loss = criterion(outputs, label)\n",
    "        # Backpropagation.\n",
    "        loss.backward()\n",
    "        # Update the parameters.\n",
    "        optimizer.step()\n",
    "        # Add loss of each item (total items in a batch = batch size).\n",
    "        running_loss += loss.item()\n",
    "        # Calculate batch psnr (once every `batch_size` iterations).\n",
    "        batch_psnr =  psnr(label, outputs)\n",
    "        running_psnr += batch_psnr\n",
    "    final_loss = running_loss/len(dataloader.dataset)\n",
    "    final_psnr = running_psnr/len(dataloader)\n",
    "    return final_loss, final_psnr\n",
    "\n",
    "    \n",
    "def validate(model, dataloader, epoch, path):\n",
    "    model.eval()\n",
    "    running_loss = 0.0\n",
    "    running_psnr = 0.0\n",
    "    with torch.no_grad():\n",
    "        for bi, data in tqdm(enumerate(dataloader), total=len(dataloader)):\n",
    "            image_data = data[0].to(device)\n",
    "            label = data[1].to(device)\n",
    "            \n",
    "            outputs = model(image_data)\n",
    "            loss = criterion(outputs, label)\n",
    "            # Add loss of each item (total items in a batch = batch size) .\n",
    "            running_loss += loss.item()\n",
    "            # Calculate batch psnr (once every `batch_size` iterations).\n",
    "            batch_psnr = psnr(label, outputs)\n",
    "            running_psnr += batch_psnr\n",
    "            # For saving the batch samples for the validation results\n",
    "            # every 500 epochs.\n",
    "            if SAVE_VALIDATION_RESULTS and (epoch % 5) == 0:\n",
    "                save_validation_results(outputs, epoch, bi, path)\n",
    "\n",
    "    final_loss = running_loss/len(dataloader.dataset)\n",
    "    final_psnr = running_psnr/len(dataloader)\n",
    "    return final_loss, final_psnr\n"
   ]
  },
  {
   "cell_type": "code",
   "execution_count": 16,
   "metadata": {},
   "outputs": [
    {
     "name": "stdout",
     "output_type": "stream",
     "text": [
      "Epoch 1 of 100\n"
     ]
    },
    {
     "name": "stderr",
     "output_type": "stream",
     "text": [
      "100%|██████████| 1180/1180 [00:09<00:00, 127.26it/s]\n",
      "100%|██████████| 2/2 [00:00<00:00, 52.59it/s]\n"
     ]
    },
    {
     "name": "stdout",
     "output_type": "stream",
     "text": [
      "Train PSNR: 35.166\n",
      "Val PSNR: 35.062\n",
      "Epoch 2 of 100\n"
     ]
    },
    {
     "name": "stderr",
     "output_type": "stream",
     "text": [
      " 12%|█▏        | 143/1180 [00:01<00:07, 130.20it/s]\n"
     ]
    },
    {
     "ename": "KeyboardInterrupt",
     "evalue": "",
     "output_type": "error",
     "traceback": [
      "\u001b[0;31m---------------------------------------------------------------------------\u001b[0m",
      "\u001b[0;31mKeyboardInterrupt\u001b[0m                         Traceback (most recent call last)",
      "\u001b[1;32m/home/jongwook95.lee/study/super_resolution/super_resolution_cnn/main.ipynb Cell 18'\u001b[0m in \u001b[0;36m<cell line: 4>\u001b[0;34m()\u001b[0m\n\u001b[1;32m      <a href='vscode-notebook-cell://ssh-remote%2Bia07.lge.com/home/jongwook95.lee/study/super_resolution/super_resolution_cnn/main.ipynb#ch0000021vscode-remote?line=3'>4</a>\u001b[0m \u001b[39mfor\u001b[39;00m epoch \u001b[39min\u001b[39;00m \u001b[39mrange\u001b[39m(args[\u001b[39m'\u001b[39m\u001b[39mepoch\u001b[39m\u001b[39m'\u001b[39m]):\n\u001b[1;32m      <a href='vscode-notebook-cell://ssh-remote%2Bia07.lge.com/home/jongwook95.lee/study/super_resolution/super_resolution_cnn/main.ipynb#ch0000021vscode-remote?line=4'>5</a>\u001b[0m     \u001b[39mprint\u001b[39m(\u001b[39mf\u001b[39m\u001b[39m\"\u001b[39m\u001b[39mEpoch \u001b[39m\u001b[39m{\u001b[39;00mepoch \u001b[39m+\u001b[39m \u001b[39m1\u001b[39m\u001b[39m}\u001b[39;00m\u001b[39m of \u001b[39m\u001b[39m{\u001b[39;00margs[\u001b[39m'\u001b[39m\u001b[39mepoch\u001b[39m\u001b[39m'\u001b[39m]\u001b[39m}\u001b[39;00m\u001b[39m\"\u001b[39m)\n\u001b[0;32m----> <a href='vscode-notebook-cell://ssh-remote%2Bia07.lge.com/home/jongwook95.lee/study/super_resolution/super_resolution_cnn/main.ipynb#ch0000021vscode-remote?line=5'>6</a>\u001b[0m     train_epoch_loss, train_epoch_psnr \u001b[39m=\u001b[39m train(model, train_loader)\n\u001b[1;32m      <a href='vscode-notebook-cell://ssh-remote%2Bia07.lge.com/home/jongwook95.lee/study/super_resolution/super_resolution_cnn/main.ipynb#ch0000021vscode-remote?line=6'>7</a>\u001b[0m     val_epoch_loss, val_epoch_psnr \u001b[39m=\u001b[39m validate(model, valid_loader, epoch\u001b[39m+\u001b[39m\u001b[39m1\u001b[39m, os\u001b[39m.\u001b[39mpath\u001b[39m.\u001b[39mjoin(args[\u001b[39m'\u001b[39m\u001b[39mresult_dir\u001b[39m\u001b[39m'\u001b[39m], \u001b[39m'\u001b[39m\u001b[39mvalid_results\u001b[39m\u001b[39m'\u001b[39m))\n\u001b[1;32m      <a href='vscode-notebook-cell://ssh-remote%2Bia07.lge.com/home/jongwook95.lee/study/super_resolution/super_resolution_cnn/main.ipynb#ch0000021vscode-remote?line=7'>8</a>\u001b[0m     \u001b[39mprint\u001b[39m(\u001b[39mf\u001b[39m\u001b[39m\"\u001b[39m\u001b[39mTrain PSNR: \u001b[39m\u001b[39m{\u001b[39;00mtrain_epoch_psnr\u001b[39m:\u001b[39;00m\u001b[39m.3f\u001b[39m\u001b[39m}\u001b[39;00m\u001b[39m\"\u001b[39m)\n",
      "\u001b[1;32m/home/jongwook95.lee/study/super_resolution/super_resolution_cnn/main.ipynb Cell 17'\u001b[0m in \u001b[0;36mtrain\u001b[0;34m(model, dataloader)\u001b[0m\n\u001b[1;32m      <a href='vscode-notebook-cell://ssh-remote%2Bia07.lge.com/home/jongwook95.lee/study/super_resolution/super_resolution_cnn/main.ipynb#ch0000022vscode-remote?line=4'>5</a>\u001b[0m running_loss \u001b[39m=\u001b[39m \u001b[39m0.0\u001b[39m\n\u001b[1;32m      <a href='vscode-notebook-cell://ssh-remote%2Bia07.lge.com/home/jongwook95.lee/study/super_resolution/super_resolution_cnn/main.ipynb#ch0000022vscode-remote?line=5'>6</a>\u001b[0m running_psnr \u001b[39m=\u001b[39m \u001b[39m0.0\u001b[39m\n\u001b[0;32m----> <a href='vscode-notebook-cell://ssh-remote%2Bia07.lge.com/home/jongwook95.lee/study/super_resolution/super_resolution_cnn/main.ipynb#ch0000022vscode-remote?line=6'>7</a>\u001b[0m \u001b[39mfor\u001b[39;00m bi, data \u001b[39min\u001b[39;00m tqdm(\u001b[39menumerate\u001b[39m(dataloader), total\u001b[39m=\u001b[39m\u001b[39mlen\u001b[39m(dataloader)):\n\u001b[1;32m      <a href='vscode-notebook-cell://ssh-remote%2Bia07.lge.com/home/jongwook95.lee/study/super_resolution/super_resolution_cnn/main.ipynb#ch0000022vscode-remote?line=7'>8</a>\u001b[0m     image_data \u001b[39m=\u001b[39m data[\u001b[39m0\u001b[39m]\u001b[39m.\u001b[39mto(device)\n\u001b[1;32m      <a href='vscode-notebook-cell://ssh-remote%2Bia07.lge.com/home/jongwook95.lee/study/super_resolution/super_resolution_cnn/main.ipynb#ch0000022vscode-remote?line=8'>9</a>\u001b[0m     label \u001b[39m=\u001b[39m data[\u001b[39m1\u001b[39m]\u001b[39m.\u001b[39mto(device)\n",
      "File \u001b[0;32m~/miniforge3/envs/torch100/lib/python3.8/site-packages/tqdm/std.py:1195\u001b[0m, in \u001b[0;36mtqdm.__iter__\u001b[0;34m(self)\u001b[0m\n\u001b[1;32m   <a href='file:///home/jongwook95.lee/miniforge3/envs/torch100/lib/python3.8/site-packages/tqdm/std.py?line=1191'>1192</a>\u001b[0m time \u001b[39m=\u001b[39m \u001b[39mself\u001b[39m\u001b[39m.\u001b[39m_time\n\u001b[1;32m   <a href='file:///home/jongwook95.lee/miniforge3/envs/torch100/lib/python3.8/site-packages/tqdm/std.py?line=1193'>1194</a>\u001b[0m \u001b[39mtry\u001b[39;00m:\n\u001b[0;32m-> <a href='file:///home/jongwook95.lee/miniforge3/envs/torch100/lib/python3.8/site-packages/tqdm/std.py?line=1194'>1195</a>\u001b[0m     \u001b[39mfor\u001b[39;00m obj \u001b[39min\u001b[39;00m iterable:\n\u001b[1;32m   <a href='file:///home/jongwook95.lee/miniforge3/envs/torch100/lib/python3.8/site-packages/tqdm/std.py?line=1195'>1196</a>\u001b[0m         \u001b[39myield\u001b[39;00m obj\n\u001b[1;32m   <a href='file:///home/jongwook95.lee/miniforge3/envs/torch100/lib/python3.8/site-packages/tqdm/std.py?line=1196'>1197</a>\u001b[0m         \u001b[39m# Update and possibly print the progressbar.\u001b[39;00m\n\u001b[1;32m   <a href='file:///home/jongwook95.lee/miniforge3/envs/torch100/lib/python3.8/site-packages/tqdm/std.py?line=1197'>1198</a>\u001b[0m         \u001b[39m# Note: does not call self.update(1) for speed optimisation.\u001b[39;00m\n",
      "File \u001b[0;32m~/miniforge3/envs/torch100/lib/python3.8/site-packages/torch/utils/data/dataloader.py:521\u001b[0m, in \u001b[0;36m_BaseDataLoaderIter.__next__\u001b[0;34m(self)\u001b[0m\n\u001b[1;32m    <a href='file:///home/jongwook95.lee/miniforge3/envs/torch100/lib/python3.8/site-packages/torch/utils/data/dataloader.py?line=518'>519</a>\u001b[0m \u001b[39mif\u001b[39;00m \u001b[39mself\u001b[39m\u001b[39m.\u001b[39m_sampler_iter \u001b[39mis\u001b[39;00m \u001b[39mNone\u001b[39;00m:\n\u001b[1;32m    <a href='file:///home/jongwook95.lee/miniforge3/envs/torch100/lib/python3.8/site-packages/torch/utils/data/dataloader.py?line=519'>520</a>\u001b[0m     \u001b[39mself\u001b[39m\u001b[39m.\u001b[39m_reset()\n\u001b[0;32m--> <a href='file:///home/jongwook95.lee/miniforge3/envs/torch100/lib/python3.8/site-packages/torch/utils/data/dataloader.py?line=520'>521</a>\u001b[0m data \u001b[39m=\u001b[39m \u001b[39mself\u001b[39;49m\u001b[39m.\u001b[39;49m_next_data()\n\u001b[1;32m    <a href='file:///home/jongwook95.lee/miniforge3/envs/torch100/lib/python3.8/site-packages/torch/utils/data/dataloader.py?line=521'>522</a>\u001b[0m \u001b[39mself\u001b[39m\u001b[39m.\u001b[39m_num_yielded \u001b[39m+\u001b[39m\u001b[39m=\u001b[39m \u001b[39m1\u001b[39m\n\u001b[1;32m    <a href='file:///home/jongwook95.lee/miniforge3/envs/torch100/lib/python3.8/site-packages/torch/utils/data/dataloader.py?line=522'>523</a>\u001b[0m \u001b[39mif\u001b[39;00m \u001b[39mself\u001b[39m\u001b[39m.\u001b[39m_dataset_kind \u001b[39m==\u001b[39m _DatasetKind\u001b[39m.\u001b[39mIterable \u001b[39mand\u001b[39;00m \\\n\u001b[1;32m    <a href='file:///home/jongwook95.lee/miniforge3/envs/torch100/lib/python3.8/site-packages/torch/utils/data/dataloader.py?line=523'>524</a>\u001b[0m         \u001b[39mself\u001b[39m\u001b[39m.\u001b[39m_IterableDataset_len_called \u001b[39mis\u001b[39;00m \u001b[39mnot\u001b[39;00m \u001b[39mNone\u001b[39;00m \u001b[39mand\u001b[39;00m \\\n\u001b[1;32m    <a href='file:///home/jongwook95.lee/miniforge3/envs/torch100/lib/python3.8/site-packages/torch/utils/data/dataloader.py?line=524'>525</a>\u001b[0m         \u001b[39mself\u001b[39m\u001b[39m.\u001b[39m_num_yielded \u001b[39m>\u001b[39m \u001b[39mself\u001b[39m\u001b[39m.\u001b[39m_IterableDataset_len_called:\n",
      "File \u001b[0;32m~/miniforge3/envs/torch100/lib/python3.8/site-packages/torch/utils/data/dataloader.py:561\u001b[0m, in \u001b[0;36m_SingleProcessDataLoaderIter._next_data\u001b[0;34m(self)\u001b[0m\n\u001b[1;32m    <a href='file:///home/jongwook95.lee/miniforge3/envs/torch100/lib/python3.8/site-packages/torch/utils/data/dataloader.py?line=558'>559</a>\u001b[0m \u001b[39mdef\u001b[39;00m \u001b[39m_next_data\u001b[39m(\u001b[39mself\u001b[39m):\n\u001b[1;32m    <a href='file:///home/jongwook95.lee/miniforge3/envs/torch100/lib/python3.8/site-packages/torch/utils/data/dataloader.py?line=559'>560</a>\u001b[0m     index \u001b[39m=\u001b[39m \u001b[39mself\u001b[39m\u001b[39m.\u001b[39m_next_index()  \u001b[39m# may raise StopIteration\u001b[39;00m\n\u001b[0;32m--> <a href='file:///home/jongwook95.lee/miniforge3/envs/torch100/lib/python3.8/site-packages/torch/utils/data/dataloader.py?line=560'>561</a>\u001b[0m     data \u001b[39m=\u001b[39m \u001b[39mself\u001b[39;49m\u001b[39m.\u001b[39;49m_dataset_fetcher\u001b[39m.\u001b[39;49mfetch(index)  \u001b[39m# may raise StopIteration\u001b[39;00m\n\u001b[1;32m    <a href='file:///home/jongwook95.lee/miniforge3/envs/torch100/lib/python3.8/site-packages/torch/utils/data/dataloader.py?line=561'>562</a>\u001b[0m     \u001b[39mif\u001b[39;00m \u001b[39mself\u001b[39m\u001b[39m.\u001b[39m_pin_memory:\n\u001b[1;32m    <a href='file:///home/jongwook95.lee/miniforge3/envs/torch100/lib/python3.8/site-packages/torch/utils/data/dataloader.py?line=562'>563</a>\u001b[0m         data \u001b[39m=\u001b[39m _utils\u001b[39m.\u001b[39mpin_memory\u001b[39m.\u001b[39mpin_memory(data)\n",
      "File \u001b[0;32m~/miniforge3/envs/torch100/lib/python3.8/site-packages/torch/utils/data/_utils/fetch.py:49\u001b[0m, in \u001b[0;36m_MapDatasetFetcher.fetch\u001b[0;34m(self, possibly_batched_index)\u001b[0m\n\u001b[1;32m     <a href='file:///home/jongwook95.lee/miniforge3/envs/torch100/lib/python3.8/site-packages/torch/utils/data/_utils/fetch.py?line=46'>47</a>\u001b[0m \u001b[39mdef\u001b[39;00m \u001b[39mfetch\u001b[39m(\u001b[39mself\u001b[39m, possibly_batched_index):\n\u001b[1;32m     <a href='file:///home/jongwook95.lee/miniforge3/envs/torch100/lib/python3.8/site-packages/torch/utils/data/_utils/fetch.py?line=47'>48</a>\u001b[0m     \u001b[39mif\u001b[39;00m \u001b[39mself\u001b[39m\u001b[39m.\u001b[39mauto_collation:\n\u001b[0;32m---> <a href='file:///home/jongwook95.lee/miniforge3/envs/torch100/lib/python3.8/site-packages/torch/utils/data/_utils/fetch.py?line=48'>49</a>\u001b[0m         data \u001b[39m=\u001b[39m [\u001b[39mself\u001b[39m\u001b[39m.\u001b[39mdataset[idx] \u001b[39mfor\u001b[39;00m idx \u001b[39min\u001b[39;00m possibly_batched_index]\n\u001b[1;32m     <a href='file:///home/jongwook95.lee/miniforge3/envs/torch100/lib/python3.8/site-packages/torch/utils/data/_utils/fetch.py?line=49'>50</a>\u001b[0m     \u001b[39melse\u001b[39;00m:\n\u001b[1;32m     <a href='file:///home/jongwook95.lee/miniforge3/envs/torch100/lib/python3.8/site-packages/torch/utils/data/_utils/fetch.py?line=50'>51</a>\u001b[0m         data \u001b[39m=\u001b[39m \u001b[39mself\u001b[39m\u001b[39m.\u001b[39mdataset[possibly_batched_index]\n",
      "File \u001b[0;32m~/miniforge3/envs/torch100/lib/python3.8/site-packages/torch/utils/data/_utils/fetch.py:49\u001b[0m, in \u001b[0;36m<listcomp>\u001b[0;34m(.0)\u001b[0m\n\u001b[1;32m     <a href='file:///home/jongwook95.lee/miniforge3/envs/torch100/lib/python3.8/site-packages/torch/utils/data/_utils/fetch.py?line=46'>47</a>\u001b[0m \u001b[39mdef\u001b[39;00m \u001b[39mfetch\u001b[39m(\u001b[39mself\u001b[39m, possibly_batched_index):\n\u001b[1;32m     <a href='file:///home/jongwook95.lee/miniforge3/envs/torch100/lib/python3.8/site-packages/torch/utils/data/_utils/fetch.py?line=47'>48</a>\u001b[0m     \u001b[39mif\u001b[39;00m \u001b[39mself\u001b[39m\u001b[39m.\u001b[39mauto_collation:\n\u001b[0;32m---> <a href='file:///home/jongwook95.lee/miniforge3/envs/torch100/lib/python3.8/site-packages/torch/utils/data/_utils/fetch.py?line=48'>49</a>\u001b[0m         data \u001b[39m=\u001b[39m [\u001b[39mself\u001b[39;49m\u001b[39m.\u001b[39;49mdataset[idx] \u001b[39mfor\u001b[39;00m idx \u001b[39min\u001b[39;00m possibly_batched_index]\n\u001b[1;32m     <a href='file:///home/jongwook95.lee/miniforge3/envs/torch100/lib/python3.8/site-packages/torch/utils/data/_utils/fetch.py?line=49'>50</a>\u001b[0m     \u001b[39melse\u001b[39;00m:\n\u001b[1;32m     <a href='file:///home/jongwook95.lee/miniforge3/envs/torch100/lib/python3.8/site-packages/torch/utils/data/_utils/fetch.py?line=50'>51</a>\u001b[0m         data \u001b[39m=\u001b[39m \u001b[39mself\u001b[39m\u001b[39m.\u001b[39mdataset[possibly_batched_index]\n",
      "File \u001b[0;32m~/study/super_resolution/super_resolution_cnn/utils/dataloader.py:22\u001b[0m, in \u001b[0;36mSRCNNDataset.__getitem__\u001b[0;34m(self, index)\u001b[0m\n\u001b[1;32m     <a href='file:///home/jongwook95.lee/study/super_resolution/super_resolution_cnn/utils/dataloader.py?line=20'>21</a>\u001b[0m \u001b[39mdef\u001b[39;00m \u001b[39m__getitem__\u001b[39m(\u001b[39mself\u001b[39m, index):\n\u001b[0;32m---> <a href='file:///home/jongwook95.lee/study/super_resolution/super_resolution_cnn/utils/dataloader.py?line=21'>22</a>\u001b[0m     image \u001b[39m=\u001b[39m Image\u001b[39m.\u001b[39;49mopen(\u001b[39mself\u001b[39;49m\u001b[39m.\u001b[39;49mall_image_paths[index])\u001b[39m.\u001b[39mconvert(\u001b[39m'\u001b[39m\u001b[39mRGB\u001b[39m\u001b[39m'\u001b[39m)\n\u001b[1;32m     <a href='file:///home/jongwook95.lee/study/super_resolution/super_resolution_cnn/utils/dataloader.py?line=22'>23</a>\u001b[0m     label \u001b[39m=\u001b[39m Image\u001b[39m.\u001b[39mopen(\u001b[39mself\u001b[39m\u001b[39m.\u001b[39mall_label_paths[index])\u001b[39m.\u001b[39mconvert(\u001b[39m'\u001b[39m\u001b[39mRGB\u001b[39m\u001b[39m'\u001b[39m)\n\u001b[1;32m     <a href='file:///home/jongwook95.lee/study/super_resolution/super_resolution_cnn/utils/dataloader.py?line=23'>24</a>\u001b[0m     image \u001b[39m=\u001b[39m np\u001b[39m.\u001b[39marray(image, dtype\u001b[39m=\u001b[39mnp\u001b[39m.\u001b[39mfloat32)\n",
      "File \u001b[0;32m~/miniforge3/envs/torch100/lib/python3.8/site-packages/PIL/Image.py:3133\u001b[0m, in \u001b[0;36mopen\u001b[0;34m(fp, mode, formats)\u001b[0m\n\u001b[1;32m   <a href='file:///home/jongwook95.lee/miniforge3/envs/torch100/lib/python3.8/site-packages/PIL/Image.py?line=3129'>3130</a>\u001b[0m             \u001b[39mraise\u001b[39;00m\n\u001b[1;32m   <a href='file:///home/jongwook95.lee/miniforge3/envs/torch100/lib/python3.8/site-packages/PIL/Image.py?line=3130'>3131</a>\u001b[0m     \u001b[39mreturn\u001b[39;00m \u001b[39mNone\u001b[39;00m\n\u001b[0;32m-> <a href='file:///home/jongwook95.lee/miniforge3/envs/torch100/lib/python3.8/site-packages/PIL/Image.py?line=3132'>3133</a>\u001b[0m im \u001b[39m=\u001b[39m _open_core(fp, filename, prefix, formats)\n\u001b[1;32m   <a href='file:///home/jongwook95.lee/miniforge3/envs/torch100/lib/python3.8/site-packages/PIL/Image.py?line=3134'>3135</a>\u001b[0m \u001b[39mif\u001b[39;00m im \u001b[39mis\u001b[39;00m \u001b[39mNone\u001b[39;00m:\n\u001b[1;32m   <a href='file:///home/jongwook95.lee/miniforge3/envs/torch100/lib/python3.8/site-packages/PIL/Image.py?line=3135'>3136</a>\u001b[0m     \u001b[39mif\u001b[39;00m init():\n",
      "File \u001b[0;32m~/miniforge3/envs/torch100/lib/python3.8/site-packages/PIL/Image.py:3119\u001b[0m, in \u001b[0;36mopen.<locals>._open_core\u001b[0;34m(fp, filename, prefix, formats)\u001b[0m\n\u001b[1;32m   <a href='file:///home/jongwook95.lee/miniforge3/envs/torch100/lib/python3.8/site-packages/PIL/Image.py?line=3116'>3117</a>\u001b[0m \u001b[39melif\u001b[39;00m result:\n\u001b[1;32m   <a href='file:///home/jongwook95.lee/miniforge3/envs/torch100/lib/python3.8/site-packages/PIL/Image.py?line=3117'>3118</a>\u001b[0m     fp\u001b[39m.\u001b[39mseek(\u001b[39m0\u001b[39m)\n\u001b[0;32m-> <a href='file:///home/jongwook95.lee/miniforge3/envs/torch100/lib/python3.8/site-packages/PIL/Image.py?line=3118'>3119</a>\u001b[0m     im \u001b[39m=\u001b[39m factory(fp, filename)\n\u001b[1;32m   <a href='file:///home/jongwook95.lee/miniforge3/envs/torch100/lib/python3.8/site-packages/PIL/Image.py?line=3119'>3120</a>\u001b[0m     _decompression_bomb_check(im\u001b[39m.\u001b[39msize)\n\u001b[1;32m   <a href='file:///home/jongwook95.lee/miniforge3/envs/torch100/lib/python3.8/site-packages/PIL/Image.py?line=3120'>3121</a>\u001b[0m     \u001b[39mreturn\u001b[39;00m im\n",
      "File \u001b[0;32m~/miniforge3/envs/torch100/lib/python3.8/site-packages/PIL/ImageFile.py:116\u001b[0m, in \u001b[0;36mImageFile.__init__\u001b[0;34m(self, fp, filename)\u001b[0m\n\u001b[1;32m    <a href='file:///home/jongwook95.lee/miniforge3/envs/torch100/lib/python3.8/site-packages/PIL/ImageFile.py?line=113'>114</a>\u001b[0m \u001b[39mtry\u001b[39;00m:\n\u001b[1;32m    <a href='file:///home/jongwook95.lee/miniforge3/envs/torch100/lib/python3.8/site-packages/PIL/ImageFile.py?line=114'>115</a>\u001b[0m     \u001b[39mtry\u001b[39;00m:\n\u001b[0;32m--> <a href='file:///home/jongwook95.lee/miniforge3/envs/torch100/lib/python3.8/site-packages/PIL/ImageFile.py?line=115'>116</a>\u001b[0m         \u001b[39mself\u001b[39;49m\u001b[39m.\u001b[39;49m_open()\n\u001b[1;32m    <a href='file:///home/jongwook95.lee/miniforge3/envs/torch100/lib/python3.8/site-packages/PIL/ImageFile.py?line=116'>117</a>\u001b[0m     \u001b[39mexcept\u001b[39;00m (\n\u001b[1;32m    <a href='file:///home/jongwook95.lee/miniforge3/envs/torch100/lib/python3.8/site-packages/PIL/ImageFile.py?line=117'>118</a>\u001b[0m         \u001b[39mIndexError\u001b[39;00m,  \u001b[39m# end of data\u001b[39;00m\n\u001b[1;32m    <a href='file:///home/jongwook95.lee/miniforge3/envs/torch100/lib/python3.8/site-packages/PIL/ImageFile.py?line=118'>119</a>\u001b[0m         \u001b[39mTypeError\u001b[39;00m,  \u001b[39m# end of data (ord)\u001b[39;00m\n\u001b[0;32m   (...)\u001b[0m\n\u001b[1;32m    <a href='file:///home/jongwook95.lee/miniforge3/envs/torch100/lib/python3.8/site-packages/PIL/ImageFile.py?line=121'>122</a>\u001b[0m         struct\u001b[39m.\u001b[39merror,\n\u001b[1;32m    <a href='file:///home/jongwook95.lee/miniforge3/envs/torch100/lib/python3.8/site-packages/PIL/ImageFile.py?line=122'>123</a>\u001b[0m     ) \u001b[39mas\u001b[39;00m v:\n\u001b[1;32m    <a href='file:///home/jongwook95.lee/miniforge3/envs/torch100/lib/python3.8/site-packages/PIL/ImageFile.py?line=123'>124</a>\u001b[0m         \u001b[39mraise\u001b[39;00m \u001b[39mSyntaxError\u001b[39;00m(v) \u001b[39mfrom\u001b[39;00m \u001b[39mv\u001b[39;00m\n",
      "File \u001b[0;32m~/miniforge3/envs/torch100/lib/python3.8/site-packages/PIL/PngImagePlugin.py:730\u001b[0m, in \u001b[0;36mPngImageFile._open\u001b[0;34m(self)\u001b[0m\n\u001b[1;32m    <a href='file:///home/jongwook95.lee/miniforge3/envs/torch100/lib/python3.8/site-packages/PIL/PngImagePlugin.py?line=726'>727</a>\u001b[0m cid, pos, length \u001b[39m=\u001b[39m \u001b[39mself\u001b[39m\u001b[39m.\u001b[39mpng\u001b[39m.\u001b[39mread()\n\u001b[1;32m    <a href='file:///home/jongwook95.lee/miniforge3/envs/torch100/lib/python3.8/site-packages/PIL/PngImagePlugin.py?line=728'>729</a>\u001b[0m \u001b[39mtry\u001b[39;00m:\n\u001b[0;32m--> <a href='file:///home/jongwook95.lee/miniforge3/envs/torch100/lib/python3.8/site-packages/PIL/PngImagePlugin.py?line=729'>730</a>\u001b[0m     s \u001b[39m=\u001b[39m \u001b[39mself\u001b[39;49m\u001b[39m.\u001b[39;49mpng\u001b[39m.\u001b[39;49mcall(cid, pos, length)\n\u001b[1;32m    <a href='file:///home/jongwook95.lee/miniforge3/envs/torch100/lib/python3.8/site-packages/PIL/PngImagePlugin.py?line=730'>731</a>\u001b[0m \u001b[39mexcept\u001b[39;00m \u001b[39mEOFError\u001b[39;00m:\n\u001b[1;32m    <a href='file:///home/jongwook95.lee/miniforge3/envs/torch100/lib/python3.8/site-packages/PIL/PngImagePlugin.py?line=731'>732</a>\u001b[0m     \u001b[39mbreak\u001b[39;00m\n",
      "File \u001b[0;32m~/miniforge3/envs/torch100/lib/python3.8/site-packages/PIL/PngImagePlugin.py:202\u001b[0m, in \u001b[0;36mChunkStream.call\u001b[0;34m(self, cid, pos, length)\u001b[0m\n\u001b[1;32m    <a href='file:///home/jongwook95.lee/miniforge3/envs/torch100/lib/python3.8/site-packages/PIL/PngImagePlugin.py?line=198'>199</a>\u001b[0m \u001b[39m\"\"\"Call the appropriate chunk handler\"\"\"\u001b[39;00m\n\u001b[1;32m    <a href='file:///home/jongwook95.lee/miniforge3/envs/torch100/lib/python3.8/site-packages/PIL/PngImagePlugin.py?line=200'>201</a>\u001b[0m logger\u001b[39m.\u001b[39mdebug(\u001b[39m\"\u001b[39m\u001b[39mSTREAM \u001b[39m\u001b[39m%r\u001b[39;00m\u001b[39m \u001b[39m\u001b[39m%s\u001b[39;00m\u001b[39m \u001b[39m\u001b[39m%s\u001b[39;00m\u001b[39m\"\u001b[39m, cid, pos, length)\n\u001b[0;32m--> <a href='file:///home/jongwook95.lee/miniforge3/envs/torch100/lib/python3.8/site-packages/PIL/PngImagePlugin.py?line=201'>202</a>\u001b[0m \u001b[39mreturn\u001b[39;00m \u001b[39mgetattr\u001b[39;49m(\u001b[39mself\u001b[39;49m, \u001b[39m\"\u001b[39;49m\u001b[39mchunk_\u001b[39;49m\u001b[39m\"\u001b[39;49m \u001b[39m+\u001b[39;49m cid\u001b[39m.\u001b[39;49mdecode(\u001b[39m\"\u001b[39;49m\u001b[39mascii\u001b[39;49m\u001b[39m\"\u001b[39;49m))(pos, length)\n",
      "File \u001b[0;32m~/miniforge3/envs/torch100/lib/python3.8/site-packages/PIL/PngImagePlugin.py:433\u001b[0m, in \u001b[0;36mPngStream.chunk_IHDR\u001b[0;34m(self, pos, length)\u001b[0m\n\u001b[1;32m    <a href='file:///home/jongwook95.lee/miniforge3/envs/torch100/lib/python3.8/site-packages/PIL/PngImagePlugin.py?line=430'>431</a>\u001b[0m \u001b[39mself\u001b[39m\u001b[39m.\u001b[39mim_size \u001b[39m=\u001b[39m i32(s, \u001b[39m0\u001b[39m), i32(s, \u001b[39m4\u001b[39m)\n\u001b[1;32m    <a href='file:///home/jongwook95.lee/miniforge3/envs/torch100/lib/python3.8/site-packages/PIL/PngImagePlugin.py?line=431'>432</a>\u001b[0m \u001b[39mtry\u001b[39;00m:\n\u001b[0;32m--> <a href='file:///home/jongwook95.lee/miniforge3/envs/torch100/lib/python3.8/site-packages/PIL/PngImagePlugin.py?line=432'>433</a>\u001b[0m     \u001b[39mself\u001b[39m\u001b[39m.\u001b[39mim_mode, \u001b[39mself\u001b[39m\u001b[39m.\u001b[39mim_rawmode \u001b[39m=\u001b[39m _MODES[(s[\u001b[39m8\u001b[39;49m], s[\u001b[39m9\u001b[39;49m])]\n\u001b[1;32m    <a href='file:///home/jongwook95.lee/miniforge3/envs/torch100/lib/python3.8/site-packages/PIL/PngImagePlugin.py?line=433'>434</a>\u001b[0m \u001b[39mexcept\u001b[39;00m \u001b[39mException\u001b[39;00m:\n\u001b[1;32m    <a href='file:///home/jongwook95.lee/miniforge3/envs/torch100/lib/python3.8/site-packages/PIL/PngImagePlugin.py?line=434'>435</a>\u001b[0m     \u001b[39mpass\u001b[39;00m\n",
      "\u001b[0;31mKeyboardInterrupt\u001b[0m: "
     ]
    }
   ],
   "source": [
    "train_loss, val_loss = [], []\n",
    "train_psnr, val_psnr = [], []\n",
    "start = time.time()\n",
    "for epoch in range(args['epoch']):\n",
    "    print(f\"Epoch {epoch + 1} of {args['epoch']}\")\n",
    "    train_epoch_loss, train_epoch_psnr = train(model, train_loader)\n",
    "    val_epoch_loss, val_epoch_psnr = validate(model, valid_loader, epoch+1, os.path.join(args['result_dir'], 'valid_results'))\n",
    "    print(f\"Train PSNR: {train_epoch_psnr:.3f}\")\n",
    "    print(f\"Val PSNR: {val_epoch_psnr:.3f}\")\n",
    "    train_loss.append(train_epoch_loss)\n",
    "    train_psnr.append(train_epoch_psnr)\n",
    "    val_loss.append(val_epoch_loss)\n",
    "    val_psnr.append(val_epoch_psnr)\n",
    "    \n",
    "    # Save model with all information every 100 epochs. Can be used \n",
    "    # resuming training.\n",
    "    if (epoch+1) % 100 == 0:\n",
    "        save_model(epoch, model, optimizer, criterion, args['result_dir'])\n",
    "    # Save the PSNR and loss plots every epoch.\n",
    "    save_plot(train_loss, val_loss, train_psnr, val_psnr, args['result_dir'])\n",
    "end = time.time()\n",
    "print(f\"Finished training in: {((end-start)/60):.3f} minutes\") "
   ]
  },
  {
   "cell_type": "markdown",
   "metadata": {},
   "source": [
    "## 9. Test"
   ]
  },
  {
   "cell_type": "code",
   "execution_count": 28,
   "metadata": {},
   "outputs": [],
   "source": [
    "def inference(model, dataloader, path):\n",
    "    model.eval()\n",
    "    running_loss = 0.0\n",
    "    running_psnr = 0.0\n",
    "    with torch.no_grad():\n",
    "        for bi, data in tqdm(enumerate(dataloader), total=len(dataloader)):\n",
    "            image_data = data[0].to(device)\n",
    "            outputs = model(image_data)\n",
    "            save_path = os.path.join(path, os.listdir(test_input_path)[bi])\n",
    "            save_image(outputs, save_path)\n",
    "            save_validation_results(outputs, epoch, bi, path)"
   ]
  },
  {
   "cell_type": "code",
   "execution_count": 29,
   "metadata": {},
   "outputs": [
    {
     "name": "stderr",
     "output_type": "stream",
     "text": [
      "100%|██████████| 2/2 [00:00<00:00,  5.10it/s]\n"
     ]
    }
   ],
   "source": [
    "os.makedirs(os.path.join(args['result_dir'], 'final'), exist_ok=True)\n",
    "inference(model, valid_loader, os.path.join(args['result_dir'], 'final'))"
   ]
  }
 ],
 "metadata": {
  "interpreter": {
   "hash": "3a71ccbc68c1f2e468ff6892dfd73218f70dc17f86fe87d0654af868e89d8853"
  },
  "kernelspec": {
   "display_name": "Python 3.8.13 ('torch100')",
   "language": "python",
   "name": "python3"
  },
  "language_info": {
   "codemirror_mode": {
    "name": "ipython",
    "version": 3
   },
   "file_extension": ".py",
   "mimetype": "text/x-python",
   "name": "python",
   "nbconvert_exporter": "python",
   "pygments_lexer": "ipython3",
   "version": "3.8.13"
  },
  "orig_nbformat": 4
 },
 "nbformat": 4,
 "nbformat_minor": 2
}
